{
 "cells": [
  {
   "cell_type": "code",
   "execution_count": 1,
   "metadata": {},
   "outputs": [],
   "source": [
    "exported_animelist = 'animelist_1708066880_-_14171317.xml'\n",
    "selected_genres = ['Comedy', 'Slice of Life'] # or [''] to select all genres\n",
    "types_anime = ['TV', 'Movie']\n",
    "min_year = 1930\n",
    "max_year = 9999\n",
    "quartile1 = 0.3 # In case of a \"Memory error\", increase\n",
    "quartile3 = 0.6 # In case of a \"Memory error\", reduce"
   ]
  },
  {
   "cell_type": "code",
   "execution_count": 2,
   "metadata": {},
   "outputs": [],
   "source": [
    "import pandas as pd\n",
    "import numpy as np\n",
    "import matplotlib.pyplot as plt\n",
    "import re\n",
    "from collections import Counter\n",
    "import xml.etree.ElementTree as ET\n",
    "%matplotlib inline"
   ]
  },
  {
   "cell_type": "code",
   "execution_count": 3,
   "metadata": {},
   "outputs": [
    {
     "name": "stdout",
     "output_type": "stream",
     "text": [
      "57633278\n"
     ]
    },
    {
     "data": {
      "text/html": [
       "<div>\n",
       "<style scoped>\n",
       "    .dataframe tbody tr th:only-of-type {\n",
       "        vertical-align: middle;\n",
       "    }\n",
       "\n",
       "    .dataframe tbody tr th {\n",
       "        vertical-align: top;\n",
       "    }\n",
       "\n",
       "    .dataframe thead th {\n",
       "        text-align: right;\n",
       "    }\n",
       "</style>\n",
       "<table border=\"1\" class=\"dataframe\">\n",
       "  <thead>\n",
       "    <tr style=\"text-align: right;\">\n",
       "      <th></th>\n",
       "      <th>user_id</th>\n",
       "      <th>anime_id</th>\n",
       "      <th>rating</th>\n",
       "    </tr>\n",
       "  </thead>\n",
       "  <tbody>\n",
       "    <tr>\n",
       "      <th>0</th>\n",
       "      <td>0</td>\n",
       "      <td>430</td>\n",
       "      <td>9</td>\n",
       "    </tr>\n",
       "    <tr>\n",
       "      <th>1</th>\n",
       "      <td>0</td>\n",
       "      <td>1004</td>\n",
       "      <td>5</td>\n",
       "    </tr>\n",
       "  </tbody>\n",
       "</table>\n",
       "</div>"
      ],
      "text/plain": [
       "   user_id  anime_id  rating\n",
       "0        0       430       9\n",
       "1        0      1004       5"
      ]
     },
     "execution_count": 3,
     "metadata": {},
     "output_type": "execute_result"
    }
   ],
   "source": [
    "data_train = pd.read_csv('data/rating_complete.csv')\n",
    "print(len(data_train))\n",
    "data_train.head(2)"
   ]
  },
  {
   "cell_type": "code",
   "execution_count": 4,
   "metadata": {},
   "outputs": [
    {
     "data": {
      "text/html": [
       "<div>\n",
       "<style scoped>\n",
       "    .dataframe tbody tr th:only-of-type {\n",
       "        vertical-align: middle;\n",
       "    }\n",
       "\n",
       "    .dataframe tbody tr th {\n",
       "        vertical-align: top;\n",
       "    }\n",
       "\n",
       "    .dataframe thead th {\n",
       "        text-align: right;\n",
       "    }\n",
       "</style>\n",
       "<table border=\"1\" class=\"dataframe\">\n",
       "  <thead>\n",
       "    <tr style=\"text-align: right;\">\n",
       "      <th></th>\n",
       "      <th>anime_id</th>\n",
       "      <th>Name</th>\n",
       "      <th>Score</th>\n",
       "      <th>Genres</th>\n",
       "      <th>English name</th>\n",
       "      <th>Japanese name</th>\n",
       "      <th>Type</th>\n",
       "      <th>Episodes</th>\n",
       "      <th>Aired</th>\n",
       "      <th>Premiered</th>\n",
       "      <th>...</th>\n",
       "      <th>Score-10</th>\n",
       "      <th>Score-9</th>\n",
       "      <th>Score-8</th>\n",
       "      <th>Score-7</th>\n",
       "      <th>Score-6</th>\n",
       "      <th>Score-5</th>\n",
       "      <th>Score-4</th>\n",
       "      <th>Score-3</th>\n",
       "      <th>Score-2</th>\n",
       "      <th>Score-1</th>\n",
       "    </tr>\n",
       "  </thead>\n",
       "  <tbody>\n",
       "    <tr>\n",
       "      <th>0</th>\n",
       "      <td>1</td>\n",
       "      <td>Cowboy Bebop</td>\n",
       "      <td>8.78</td>\n",
       "      <td>Action, Adventure, Comedy, Drama, Sci-Fi, Space</td>\n",
       "      <td>Cowboy Bebop</td>\n",
       "      <td>カウボーイビバップ</td>\n",
       "      <td>TV</td>\n",
       "      <td>26</td>\n",
       "      <td>Apr 3, 1998 to Apr 24, 1999</td>\n",
       "      <td>Spring 1998</td>\n",
       "      <td>...</td>\n",
       "      <td>229170.0</td>\n",
       "      <td>182126.0</td>\n",
       "      <td>131625.0</td>\n",
       "      <td>62330.0</td>\n",
       "      <td>20688.0</td>\n",
       "      <td>8904.0</td>\n",
       "      <td>3184.0</td>\n",
       "      <td>1357.0</td>\n",
       "      <td>741.0</td>\n",
       "      <td>1580.0</td>\n",
       "    </tr>\n",
       "    <tr>\n",
       "      <th>1</th>\n",
       "      <td>5</td>\n",
       "      <td>Cowboy Bebop: Tengoku no Tobira</td>\n",
       "      <td>8.39</td>\n",
       "      <td>Action, Drama, Mystery, Sci-Fi, Space</td>\n",
       "      <td>Cowboy Bebop:The Movie</td>\n",
       "      <td>カウボーイビバップ 天国の扉</td>\n",
       "      <td>Movie</td>\n",
       "      <td>1</td>\n",
       "      <td>Sep 1, 2001</td>\n",
       "      <td>Unknown</td>\n",
       "      <td>...</td>\n",
       "      <td>30043.0</td>\n",
       "      <td>49201.0</td>\n",
       "      <td>49505.0</td>\n",
       "      <td>22632.0</td>\n",
       "      <td>5805.0</td>\n",
       "      <td>1877.0</td>\n",
       "      <td>577.0</td>\n",
       "      <td>221.0</td>\n",
       "      <td>109.0</td>\n",
       "      <td>379.0</td>\n",
       "    </tr>\n",
       "  </tbody>\n",
       "</table>\n",
       "<p>2 rows × 35 columns</p>\n",
       "</div>"
      ],
      "text/plain": [
       "   anime_id                             Name Score  \\\n",
       "0         1                     Cowboy Bebop  8.78   \n",
       "1         5  Cowboy Bebop: Tengoku no Tobira  8.39   \n",
       "\n",
       "                                            Genres            English name  \\\n",
       "0  Action, Adventure, Comedy, Drama, Sci-Fi, Space            Cowboy Bebop   \n",
       "1            Action, Drama, Mystery, Sci-Fi, Space  Cowboy Bebop:The Movie   \n",
       "\n",
       "    Japanese name   Type Episodes                        Aired    Premiered  \\\n",
       "0       カウボーイビバップ     TV       26  Apr 3, 1998 to Apr 24, 1999  Spring 1998   \n",
       "1  カウボーイビバップ 天国の扉  Movie        1                  Sep 1, 2001      Unknown   \n",
       "\n",
       "   ...  Score-10   Score-9   Score-8  Score-7  Score-6 Score-5 Score-4  \\\n",
       "0  ...  229170.0  182126.0  131625.0  62330.0  20688.0  8904.0  3184.0   \n",
       "1  ...   30043.0   49201.0   49505.0  22632.0   5805.0  1877.0   577.0   \n",
       "\n",
       "   Score-3  Score-2  Score-1  \n",
       "0   1357.0    741.0   1580.0  \n",
       "1    221.0    109.0    379.0  \n",
       "\n",
       "[2 rows x 35 columns]"
      ]
     },
     "execution_count": 4,
     "metadata": {},
     "output_type": "execute_result"
    }
   ],
   "source": [
    "anime = pd.read_csv('data/anime.csv')\n",
    "anime = anime.rename(columns={\"MAL_ID\": \"anime_id\"})\n",
    "anime3 = anime[['anime_id', 'Score', 'Popularity']].copy()\n",
    "anime.head(2)"
   ]
  },
  {
   "cell_type": "markdown",
   "metadata": {},
   "source": [
    "Creating datafraime from the exported animelist"
   ]
  },
  {
   "cell_type": "code",
   "execution_count": 5,
   "metadata": {},
   "outputs": [],
   "source": [
    "root = ET.parse(exported_animelist).getroot()\n",
    "anime_id = []\n",
    "rating = []\n",
    "for i, j in zip(root.findall('anime/series_animedb_id'), root.findall('anime/my_score')):\n",
    "    if int(j.text) != 0:\n",
    "        anime_id.append(int(i.text))\n",
    "        rating.append(float(j.text))\n",
    "\n",
    "my_animelist = pd.DataFrame({'user_id': 400000, 'anime_id': anime_id, 'rating': rating})"
   ]
  },
  {
   "cell_type": "markdown",
   "metadata": {},
   "source": [
    "Creating genres table"
   ]
  },
  {
   "cell_type": "code",
   "execution_count": 6,
   "metadata": {},
   "outputs": [
    {
     "data": {
      "text/html": [
       "<div>\n",
       "<style scoped>\n",
       "    .dataframe tbody tr th:only-of-type {\n",
       "        vertical-align: middle;\n",
       "    }\n",
       "\n",
       "    .dataframe tbody tr th {\n",
       "        vertical-align: top;\n",
       "    }\n",
       "\n",
       "    .dataframe thead th {\n",
       "        text-align: right;\n",
       "    }\n",
       "</style>\n",
       "<table border=\"1\" class=\"dataframe\">\n",
       "  <thead>\n",
       "    <tr style=\"text-align: right;\">\n",
       "      <th></th>\n",
       "      <th>Mecha</th>\n",
       "      <th>Shounen Ai</th>\n",
       "      <th>Slice of Life</th>\n",
       "      <th>Magic</th>\n",
       "      <th>Thriller</th>\n",
       "      <th>Romance</th>\n",
       "      <th>Super Power</th>\n",
       "      <th>Action</th>\n",
       "      <th>Game</th>\n",
       "      <th>Sports</th>\n",
       "      <th>...</th>\n",
       "      <th>Shoujo</th>\n",
       "      <th>Comedy</th>\n",
       "      <th>Military</th>\n",
       "      <th>Supernatural</th>\n",
       "      <th>Hentai</th>\n",
       "      <th>Cars</th>\n",
       "      <th>Shounen</th>\n",
       "      <th>Psychological</th>\n",
       "      <th>Adventure</th>\n",
       "      <th>Demons</th>\n",
       "    </tr>\n",
       "    <tr>\n",
       "      <th>anime_id</th>\n",
       "      <th></th>\n",
       "      <th></th>\n",
       "      <th></th>\n",
       "      <th></th>\n",
       "      <th></th>\n",
       "      <th></th>\n",
       "      <th></th>\n",
       "      <th></th>\n",
       "      <th></th>\n",
       "      <th></th>\n",
       "      <th></th>\n",
       "      <th></th>\n",
       "      <th></th>\n",
       "      <th></th>\n",
       "      <th></th>\n",
       "      <th></th>\n",
       "      <th></th>\n",
       "      <th></th>\n",
       "      <th></th>\n",
       "      <th></th>\n",
       "      <th></th>\n",
       "    </tr>\n",
       "  </thead>\n",
       "  <tbody>\n",
       "    <tr>\n",
       "      <th>1</th>\n",
       "      <td>0</td>\n",
       "      <td>0</td>\n",
       "      <td>0</td>\n",
       "      <td>0</td>\n",
       "      <td>0</td>\n",
       "      <td>0</td>\n",
       "      <td>0</td>\n",
       "      <td>1</td>\n",
       "      <td>0</td>\n",
       "      <td>0</td>\n",
       "      <td>...</td>\n",
       "      <td>0</td>\n",
       "      <td>1</td>\n",
       "      <td>0</td>\n",
       "      <td>0</td>\n",
       "      <td>0</td>\n",
       "      <td>0</td>\n",
       "      <td>0</td>\n",
       "      <td>0</td>\n",
       "      <td>1</td>\n",
       "      <td>0</td>\n",
       "    </tr>\n",
       "    <tr>\n",
       "      <th>5</th>\n",
       "      <td>0</td>\n",
       "      <td>0</td>\n",
       "      <td>0</td>\n",
       "      <td>0</td>\n",
       "      <td>0</td>\n",
       "      <td>0</td>\n",
       "      <td>0</td>\n",
       "      <td>1</td>\n",
       "      <td>0</td>\n",
       "      <td>0</td>\n",
       "      <td>...</td>\n",
       "      <td>0</td>\n",
       "      <td>0</td>\n",
       "      <td>0</td>\n",
       "      <td>0</td>\n",
       "      <td>0</td>\n",
       "      <td>0</td>\n",
       "      <td>0</td>\n",
       "      <td>0</td>\n",
       "      <td>0</td>\n",
       "      <td>0</td>\n",
       "    </tr>\n",
       "    <tr>\n",
       "      <th>6</th>\n",
       "      <td>0</td>\n",
       "      <td>0</td>\n",
       "      <td>0</td>\n",
       "      <td>0</td>\n",
       "      <td>0</td>\n",
       "      <td>0</td>\n",
       "      <td>0</td>\n",
       "      <td>1</td>\n",
       "      <td>0</td>\n",
       "      <td>0</td>\n",
       "      <td>...</td>\n",
       "      <td>0</td>\n",
       "      <td>1</td>\n",
       "      <td>0</td>\n",
       "      <td>0</td>\n",
       "      <td>0</td>\n",
       "      <td>0</td>\n",
       "      <td>1</td>\n",
       "      <td>0</td>\n",
       "      <td>1</td>\n",
       "      <td>0</td>\n",
       "    </tr>\n",
       "  </tbody>\n",
       "</table>\n",
       "<p>3 rows × 39 columns</p>\n",
       "</div>"
      ],
      "text/plain": [
       "          Mecha  Shounen Ai  Slice of Life  Magic  Thriller  Romance  \\\n",
       "anime_id                                                               \n",
       "1             0           0              0      0         0        0   \n",
       "5             0           0              0      0         0        0   \n",
       "6             0           0              0      0         0        0   \n",
       "\n",
       "          Super Power  Action  Game  Sports  ...  Shoujo  Comedy  Military  \\\n",
       "anime_id                                     ...                             \n",
       "1                   0       1     0       0  ...       0       1         0   \n",
       "5                   0       1     0       0  ...       0       0         0   \n",
       "6                   0       1     0       0  ...       0       1         0   \n",
       "\n",
       "          Supernatural  Hentai  Cars  Shounen  Psychological  Adventure  \\\n",
       "anime_id                                                                  \n",
       "1                    0       0     0        0              0          1   \n",
       "5                    0       0     0        0              0          0   \n",
       "6                    0       0     0        1              0          1   \n",
       "\n",
       "          Demons  \n",
       "anime_id          \n",
       "1              0  \n",
       "5              0  \n",
       "6              0  \n",
       "\n",
       "[3 rows x 39 columns]"
      ]
     },
     "execution_count": 6,
     "metadata": {},
     "output_type": "execute_result"
    }
   ],
   "source": [
    "genres = []\n",
    "\n",
    "for i in range(len(anime)):\n",
    "    genres.extend(anime.iloc[i]['Genres'].split(', '))\n",
    "\n",
    "colms = list(set(genres))\n",
    "\n",
    "df_genres = pd.DataFrame(columns=colms)\n",
    "df_genres['anime_id'] = anime['anime_id']\n",
    "df_genres = df_genres.fillna(0)\n",
    "df_genres.index = df_genres['anime_id']\n",
    "df_genres.drop('anime_id', axis=1, inplace=True)\n",
    "\n",
    "for i in anime['anime_id'].values:\n",
    "    list_genres = anime.loc[anime['anime_id'] == i]['Genres'].values[0].split(', ')\n",
    "    for j in list_genres:\n",
    "        df_genres.at[i, j] = 1\n",
    "\n",
    "sum_col = [sum(df_genres[i]) for i in df_genres.columns]\n",
    "\n",
    "for i in df_genres.columns:\n",
    "    if sum(df_genres[i]) < np.percentile(np.array(sum_col), 10):\n",
    "        try:\n",
    "            df_genres.drop(i, axis=1, inplace=True)\n",
    "        except KeyError:\n",
    "            pass\n",
    "\n",
    "df_genres.head(3)"
   ]
  },
  {
   "cell_type": "markdown",
   "metadata": {},
   "source": [
    "Limit by genres"
   ]
  },
  {
   "cell_type": "code",
   "execution_count": 7,
   "metadata": {},
   "outputs": [
    {
     "name": "stdout",
     "output_type": "stream",
     "text": [
      "6176162\n"
     ]
    }
   ],
   "source": [
    "if selected_genres[0] != '':\n",
    "    my_genres = []\n",
    "    for i in selected_genres:\n",
    "        my_genres.extend(list(df_genres.loc[df_genres[i] == 1].index))\n",
    "    counter_genres = Counter(my_genres)\n",
    "    max_val = max(counter_genres.values())\n",
    "    my_genres = list(filter(lambda x:  counter_genres[x] == max_val, counter_genres.keys()))\n",
    "    data_train = data_train.loc[data_train['anime_id'].isin(my_genres)]\n",
    "    my_animelist = my_animelist.loc[my_animelist['anime_id'].isin(my_genres)]\n",
    "    anime3 = anime3.loc[anime3['anime_id'].isin(my_genres)]\n",
    "    print(len(data_train))"
   ]
  },
  {
   "cell_type": "markdown",
   "metadata": {},
   "source": [
    "Limit by years"
   ]
  },
  {
   "cell_type": "code",
   "execution_count": 8,
   "metadata": {},
   "outputs": [
    {
     "data": {
      "text/plain": [
       "6176162"
      ]
     },
     "execution_count": 8,
     "metadata": {},
     "output_type": "execute_result"
    }
   ],
   "source": [
    "anime_id = []\n",
    "year = []\n",
    "\n",
    "for i in anime['anime_id']:\n",
    "    anime_id.append(i)\n",
    "    try:\n",
    "        year.append(int(re.findall('[0-9]{4}', str(anime.loc[anime['anime_id'] == i]['Aired'].values[0]))[0]))\n",
    "    except IndexError:\n",
    "        year.append(8888)\n",
    "\n",
    "df_year = pd.DataFrame({'anime_id': anime_id, 'year': year})\n",
    "df_year = df_year.loc[(df_year['year'] < max_year)&(df_year['year'] > min_year)]\n",
    "\n",
    "data_train = data_train.loc[data_train['anime_id'].isin(df_year['anime_id'])]\n",
    "my_animelist = my_animelist.loc[my_animelist['anime_id'].isin(df_year['anime_id'])]\n",
    "anime3 = anime3.loc[anime3['anime_id'].isin(df_year['anime_id'])]\n",
    "len(data_train)"
   ]
  },
  {
   "cell_type": "markdown",
   "metadata": {},
   "source": [
    "Limit by types"
   ]
  },
  {
   "cell_type": "code",
   "execution_count": 9,
   "metadata": {},
   "outputs": [
    {
     "name": "stdout",
     "output_type": "stream",
     "text": [
      "5233881\n"
     ]
    }
   ],
   "source": [
    "if types_anime[0] != '':\n",
    "    my_types = []\n",
    "    for i in types_anime:\n",
    "        my_types.extend(anime.loc[anime['Type'] == i]['anime_id'].values.tolist())\n",
    "    anime3 = anime3.loc[anime3['anime_id'].isin(my_types)]\n",
    "    data_train = data_train.loc[data_train['anime_id'].isin(my_types)]\n",
    "    print(len(data_train))"
   ]
  },
  {
   "cell_type": "markdown",
   "metadata": {},
   "source": [
    "### Reducing amount of data"
   ]
  },
  {
   "cell_type": "code",
   "execution_count": 10,
   "metadata": {},
   "outputs": [
    {
     "data": {
      "text/html": [
       "<div>\n",
       "<style scoped>\n",
       "    .dataframe tbody tr th:only-of-type {\n",
       "        vertical-align: middle;\n",
       "    }\n",
       "\n",
       "    .dataframe tbody tr th {\n",
       "        vertical-align: top;\n",
       "    }\n",
       "\n",
       "    .dataframe thead th {\n",
       "        text-align: right;\n",
       "    }\n",
       "</style>\n",
       "<table border=\"1\" class=\"dataframe\">\n",
       "  <thead>\n",
       "    <tr style=\"text-align: right;\">\n",
       "      <th></th>\n",
       "      <th>anime_id</th>\n",
       "      <th>rating_rank</th>\n",
       "    </tr>\n",
       "  </thead>\n",
       "  <tbody>\n",
       "    <tr>\n",
       "      <th>110</th>\n",
       "      <td>4224</td>\n",
       "      <td>575.0</td>\n",
       "    </tr>\n",
       "    <tr>\n",
       "      <th>76</th>\n",
       "      <td>2167</td>\n",
       "      <td>574.0</td>\n",
       "    </tr>\n",
       "    <tr>\n",
       "      <th>244</th>\n",
       "      <td>14813</td>\n",
       "      <td>573.0</td>\n",
       "    </tr>\n",
       "  </tbody>\n",
       "</table>\n",
       "</div>"
      ],
      "text/plain": [
       "     anime_id  rating_rank\n",
       "110      4224        575.0\n",
       "76       2167        574.0\n",
       "244     14813        573.0"
      ]
     },
     "execution_count": 10,
     "metadata": {},
     "output_type": "execute_result"
    }
   ],
   "source": [
    "popularity_anime = data_train.groupby('anime_id')['rating'].count().reset_index().sort_values('rating', ascending=False)\n",
    "popularity_anime['rating_rank'] = popularity_anime['rating'].rank()\n",
    "popularity_anime.drop('rating', axis=1, inplace=True)\n",
    "popularity_anime.head(3)"
   ]
  },
  {
   "cell_type": "code",
   "execution_count": 11,
   "metadata": {},
   "outputs": [],
   "source": [
    "data_train = pd.merge(data_train, popularity_anime, how='left', on='anime_id')"
   ]
  },
  {
   "cell_type": "code",
   "execution_count": 12,
   "metadata": {},
   "outputs": [
    {
     "data": {
      "text/html": [
       "<div>\n",
       "<style scoped>\n",
       "    .dataframe tbody tr th:only-of-type {\n",
       "        vertical-align: middle;\n",
       "    }\n",
       "\n",
       "    .dataframe tbody tr th {\n",
       "        vertical-align: top;\n",
       "    }\n",
       "\n",
       "    .dataframe thead th {\n",
       "        text-align: right;\n",
       "    }\n",
       "</style>\n",
       "<table border=\"1\" class=\"dataframe\">\n",
       "  <thead>\n",
       "    <tr style=\"text-align: right;\">\n",
       "      <th></th>\n",
       "      <th>user_id</th>\n",
       "      <th>rating_rank</th>\n",
       "    </tr>\n",
       "  </thead>\n",
       "  <tbody>\n",
       "    <tr>\n",
       "      <th>0</th>\n",
       "      <td>189037</td>\n",
       "      <td>162951.0</td>\n",
       "    </tr>\n",
       "    <tr>\n",
       "      <th>1</th>\n",
       "      <td>68042</td>\n",
       "      <td>158390.0</td>\n",
       "    </tr>\n",
       "    <tr>\n",
       "      <th>2</th>\n",
       "      <td>283786</td>\n",
       "      <td>157739.5</td>\n",
       "    </tr>\n",
       "  </tbody>\n",
       "</table>\n",
       "</div>"
      ],
      "text/plain": [
       "   user_id  rating_rank\n",
       "0   189037     162951.0\n",
       "1    68042     158390.0\n",
       "2   283786     157739.5"
      ]
     },
     "execution_count": 12,
     "metadata": {},
     "output_type": "execute_result"
    }
   ],
   "source": [
    "user_sum_rating = data_train.groupby('user_id')['rating_rank'].sum().reset_index().sort_values('rating_rank', ascending=False).reset_index(drop=True)\n",
    "user_sum_rating.head(3)"
   ]
  },
  {
   "cell_type": "code",
   "execution_count": 13,
   "metadata": {},
   "outputs": [
    {
     "data": {
      "text/html": [
       "<div>\n",
       "<style scoped>\n",
       "    .dataframe tbody tr th:only-of-type {\n",
       "        vertical-align: middle;\n",
       "    }\n",
       "\n",
       "    .dataframe tbody tr th {\n",
       "        vertical-align: top;\n",
       "    }\n",
       "\n",
       "    .dataframe thead th {\n",
       "        text-align: right;\n",
       "    }\n",
       "</style>\n",
       "<table border=\"1\" class=\"dataframe\">\n",
       "  <thead>\n",
       "    <tr style=\"text-align: right;\">\n",
       "      <th></th>\n",
       "      <th>user_id</th>\n",
       "      <th>rating_rank</th>\n",
       "    </tr>\n",
       "  </thead>\n",
       "  <tbody>\n",
       "    <tr>\n",
       "      <th>0</th>\n",
       "      <td>189037</td>\n",
       "      <td>558</td>\n",
       "    </tr>\n",
       "    <tr>\n",
       "      <th>1</th>\n",
       "      <td>68042</td>\n",
       "      <td>533</td>\n",
       "    </tr>\n",
       "    <tr>\n",
       "      <th>2</th>\n",
       "      <td>162615</td>\n",
       "      <td>515</td>\n",
       "    </tr>\n",
       "  </tbody>\n",
       "</table>\n",
       "</div>"
      ],
      "text/plain": [
       "   user_id  rating_rank\n",
       "0   189037          558\n",
       "1    68042          533\n",
       "2   162615          515"
      ]
     },
     "execution_count": 13,
     "metadata": {},
     "output_type": "execute_result"
    }
   ],
   "source": [
    "user_count_rating = data_train.groupby('user_id')['rating_rank'].count().reset_index().sort_values('rating_rank', ascending=False).reset_index(drop=True)\n",
    "user_count_rating.head(3)"
   ]
  },
  {
   "cell_type": "code",
   "execution_count": 14,
   "metadata": {},
   "outputs": [
    {
     "data": {
      "text/html": [
       "<div>\n",
       "<style scoped>\n",
       "    .dataframe tbody tr th:only-of-type {\n",
       "        vertical-align: middle;\n",
       "    }\n",
       "\n",
       "    .dataframe tbody tr th {\n",
       "        vertical-align: top;\n",
       "    }\n",
       "\n",
       "    .dataframe thead th {\n",
       "        text-align: right;\n",
       "    }\n",
       "</style>\n",
       "<table border=\"1\" class=\"dataframe\">\n",
       "  <thead>\n",
       "    <tr style=\"text-align: right;\">\n",
       "      <th></th>\n",
       "      <th>user_id</th>\n",
       "      <th>rating_rank</th>\n",
       "    </tr>\n",
       "  </thead>\n",
       "  <tbody>\n",
       "    <tr>\n",
       "      <th>0</th>\n",
       "      <td>189037</td>\n",
       "      <td>292.026882</td>\n",
       "    </tr>\n",
       "    <tr>\n",
       "      <th>1</th>\n",
       "      <td>68042</td>\n",
       "      <td>297.166979</td>\n",
       "    </tr>\n",
       "    <tr>\n",
       "      <th>2</th>\n",
       "      <td>283786</td>\n",
       "      <td>331.385504</td>\n",
       "    </tr>\n",
       "  </tbody>\n",
       "</table>\n",
       "</div>"
      ],
      "text/plain": [
       "   user_id  rating_rank\n",
       "0   189037   292.026882\n",
       "1    68042   297.166979\n",
       "2   283786   331.385504"
      ]
     },
     "execution_count": 14,
     "metadata": {},
     "output_type": "execute_result"
    }
   ],
   "source": [
    "user_rating = pd.merge(user_sum_rating, user_count_rating, how='left', on='user_id')\n",
    "user_rating['rating_rank'] = user_rating['rating_rank_x']/user_rating['rating_rank_y']\n",
    "user_rating.drop(['rating_rank_x', 'rating_rank_y'], axis=1, inplace=True)\n",
    "user_rating.head(3)"
   ]
  },
  {
   "cell_type": "code",
   "execution_count": 15,
   "metadata": {},
   "outputs": [
    {
     "data": {
      "image/png": "[encoded data removed]",
      "text/plain": [
       "<Figure size 640x480 with 1 Axes>"
      ]
     },
     "metadata": {},
     "output_type": "display_data"
    }
   ],
   "source": [
    "plt.boxplot(user_rating['rating_rank'], vert=False)\n",
    "plt.show()"
   ]
  },
  {
   "cell_type": "markdown",
   "metadata": {},
   "source": [
    "Selected interquartile range "
   ]
  },
  {
   "cell_type": "code",
   "execution_count": 16,
   "metadata": {},
   "outputs": [
    {
     "name": "stdout",
     "output_type": "stream",
     "text": [
      "Q1=505.92083926031296, Q3=533.5714285714286\n"
     ]
    },
    {
     "data": {
      "image/png": "[encoded data removed]",
      "text/plain": [
       "<Figure size 640x480 with 1 Axes>"
      ]
     },
     "metadata": {},
     "output_type": "display_data"
    }
   ],
   "source": [
    "Q1 = user_rating['rating_rank'].quantile(quartile1)\n",
    "Q3 = user_rating['rating_rank'].quantile(quartile3)\n",
    "print(f'Q1={Q1}, Q3={Q3}')\n",
    "user_rating_iqr = user_rating.loc[(user_rating['rating_rank'] < Q3) & (user_rating['rating_rank'] > Q1)]\n",
    "user_list = user_rating_iqr['user_id'].tolist()\n",
    "plt.boxplot(user_rating_iqr['rating_rank'], vert=False)\n",
    "plt.show()"
   ]
  },
  {
   "cell_type": "code",
   "execution_count": 17,
   "metadata": {},
   "outputs": [
    {
     "data": {
      "text/plain": [
       "1649340"
      ]
     },
     "execution_count": 17,
     "metadata": {},
     "output_type": "execute_result"
    }
   ],
   "source": [
    "data_train = data_train.loc[data_train['user_id'].isin(user_list)]\n",
    "# data_train.drop('rating_rank', axis=1, inplace=True)\n",
    "data_train = pd.concat([data_train, my_animelist], ignore_index=True)\n",
    "len(data_train)"
   ]
  },
  {
   "cell_type": "code",
   "execution_count": 18,
   "metadata": {
    "scrolled": true
   },
   "outputs": [
    {
     "name": "stderr",
     "output_type": "stream",
     "text": [
      "C:\\Python311\\Lib\\site-packages\\tqdm\\auto.py:21: TqdmWarning: IProgress not found. Please update jupyter and ipywidgets. See https://ipywidgets.readthedocs.io/en/stable/user_install.html\n",
      "  from .autonotebook import tqdm as notebook_tqdm\n",
      "C:\\Python311\\Lib\\site-packages\\implicit\\cpu\\als.py:95: RuntimeWarning: OpenBLAS is configured to use 12 threads. It is highly recommended to disable its internal threadpool by setting the environment variable 'OPENBLAS_NUM_THREADS=1' or by calling 'threadpoolctl.threadpool_limits(1, \"blas\")'. Having OpenBLAS use a threadpool can lead to severe performance issues here.\n",
      "  check_blas_config()\n",
      "100%|██████████████████████████████████████████████████████████████████████████████████| 20/20 [01:09<00:00,  3.50s/it]\n"
     ]
    }
   ],
   "source": [
    "import implicit\n",
    "from scipy.sparse import csr_matrix\n",
    "\n",
    "# initialize a model\n",
    "model = implicit.als.AlternatingLeastSquares(factors=100,\n",
    "                                        regularization=0.05, \n",
    "                                        alpha=2.0,\n",
    "                                        iterations=20,\n",
    "                                        random_state=38)\n",
    "\n",
    "# train the model on a sparse matrix of user/item/confidence weights\n",
    "user_item_matrix = pd.pivot_table(data_train,\n",
    "                                  index='user_id', columns='anime_id',\n",
    "                                  values='rating',\n",
    "                                  fill_value=0)\n",
    "\n",
    "# scipy resets indexes\n",
    "idALS_anime_id = dict((i, j) for i, j in enumerate(user_item_matrix.columns))\n",
    "\n",
    "user_item_matrix = user_item_matrix.astype(float)\n",
    "user_item_matrix_csr = csr_matrix(user_item_matrix).tocsr()\n",
    "\n",
    "model.fit(user_item_matrix_csr)"
   ]
  },
  {
   "cell_type": "code",
   "execution_count": 19,
   "metadata": {},
   "outputs": [],
   "source": [
    "from implicit.nearest_neighbours import bm25_weight\n",
    "\n",
    "# weight the matrix, both to reduce impact of users that have played the same artist thousands of times\n",
    "# and to reduce the weight given to popular items\n",
    "#user_item_matrix_csr = bm25_weight(user_item_matrix_csr, K1=100, B=0.8)"
   ]
  },
  {
   "cell_type": "code",
   "execution_count": 20,
   "metadata": {},
   "outputs": [],
   "source": [
    "id_score = model.recommend(-1, user_item_matrix_csr[-1], N=250, filter_already_liked_items=True)\n",
    "anime_id = [idALS_anime_id[i] for i in id_score[0]]\n",
    "ALScore = dict((i, j) for i, j in zip(anime_id, id_score[1]))"
   ]
  },
  {
   "cell_type": "code",
   "execution_count": 21,
   "metadata": {},
   "outputs": [],
   "source": [
    "my_animelist = my_animelist.loc[my_animelist['rating'] > 6]\n",
    "my_genres = df_genres[df_genres.index.isin(my_animelist['anime_id'])].mean().values\n",
    "\n",
    "def rec_final(rec):\n",
    "    name = []\n",
    "    date = []\n",
    "    url = []\n",
    "    als_score = []\n",
    "    score_mal = []\n",
    "    corr = []\n",
    "\n",
    "    for i in rec:\n",
    "        if i not in set(my_animelist['anime_id']):\n",
    "            name.append(anime.loc[anime['anime_id'] == i]['Name'].values[0])\n",
    "            date.append(anime.loc[anime['anime_id'] == i]['Aired'].values[0])\n",
    "            url.append('https://myanimelist.net/anime/' + str(i))\n",
    "            if type(rec) == list:\n",
    "                als_score.append(ALScore[i])\n",
    "            score_mal.append(anime.loc[anime['anime_id'] == i]['Score'].values[0])\n",
    "            corr.append(0)\n",
    "            if df_genres.loc[int(i)].sum() != 0:\n",
    "                corr[-1] = (np.corrcoef(my_genres, df_genres.loc[int(i)])[0, 1])\n",
    "\n",
    "    df =  pd.DataFrame({'name': name, 'date': date, 'url': url, 'score mal': score_mal, 'correlation': corr})\n",
    "    df['rank'] = df['score mal'].rank() + df['correlation'].rank()\n",
    "    df = df.sort_values('rank', ascending=False)\n",
    "    if type(rec) == list:\n",
    "        df =  pd.DataFrame({'name': name, 'date': date, 'url': url, 'ALS score': als_score, 'score mal': score_mal, 'correlation': corr})\n",
    "        df['rank'] = df['score mal'].rank() + df['ALS score'].rank() + df['correlation'].rank()\n",
    "        df = df.sort_values('rank', ascending=False)\n",
    "    return df"
   ]
  },
  {
   "cell_type": "code",
   "execution_count": 22,
   "metadata": {},
   "outputs": [
    {
     "data": {
      "text/html": [
       "<div>\n",
       "<style scoped>\n",
       "    .dataframe tbody tr th:only-of-type {\n",
       "        vertical-align: middle;\n",
       "    }\n",
       "\n",
       "    .dataframe tbody tr th {\n",
       "        vertical-align: top;\n",
       "    }\n",
       "\n",
       "    .dataframe thead th {\n",
       "        text-align: right;\n",
       "    }\n",
       "</style>\n",
       "<table border=\"1\" class=\"dataframe\">\n",
       "  <thead>\n",
       "    <tr style=\"text-align: right;\">\n",
       "      <th></th>\n",
       "      <th>name</th>\n",
       "      <th>date</th>\n",
       "      <th>url</th>\n",
       "      <th>ALS score</th>\n",
       "      <th>score mal</th>\n",
       "      <th>correlation</th>\n",
       "      <th>rank</th>\n",
       "    </tr>\n",
       "  </thead>\n",
       "  <tbody>\n",
       "    <tr>\n",
       "      <th>4</th>\n",
       "      <td>Minami-ke Tadaima</td>\n",
       "      <td>Jan 6, 2013 to Mar 31, 2013</td>\n",
       "      <td>https://myanimelist.net/anime/14511</td>\n",
       "      <td>0.811060</td>\n",
       "      <td>7.69</td>\n",
       "      <td>0.937880</td>\n",
       "      <td>685.5</td>\n",
       "    </tr>\n",
       "    <tr>\n",
       "      <th>31</th>\n",
       "      <td>Jungle wa Itsumo Hare nochi Guu</td>\n",
       "      <td>Apr 3, 2001 to Sep 25, 2001</td>\n",
       "      <td>https://myanimelist.net/anime/253</td>\n",
       "      <td>0.467690</td>\n",
       "      <td>7.84</td>\n",
       "      <td>0.937880</td>\n",
       "      <td>669.5</td>\n",
       "    </tr>\n",
       "    <tr>\n",
       "      <th>46</th>\n",
       "      <td>Kuragehime</td>\n",
       "      <td>Oct 15, 2010 to Dec 31, 2010</td>\n",
       "      <td>https://myanimelist.net/anime/8129</td>\n",
       "      <td>0.350606</td>\n",
       "      <td>8.13</td>\n",
       "      <td>0.921603</td>\n",
       "      <td>631.0</td>\n",
       "    </tr>\n",
       "    <tr>\n",
       "      <th>19</th>\n",
       "      <td>Gakuen Utopia Manabi Straight!</td>\n",
       "      <td>Jan 8, 2007 to Mar 26, 2007</td>\n",
       "      <td>https://myanimelist.net/anime/1858</td>\n",
       "      <td>0.570038</td>\n",
       "      <td>7.28</td>\n",
       "      <td>0.937880</td>\n",
       "      <td>628.0</td>\n",
       "    </tr>\n",
       "    <tr>\n",
       "      <th>39</th>\n",
       "      <td>Doukyonin wa Hiza, Tokidoki, Atama no Ue.</td>\n",
       "      <td>Jan 9, 2019 to Mar 27, 2019</td>\n",
       "      <td>https://myanimelist.net/anime/38145</td>\n",
       "      <td>0.406184</td>\n",
       "      <td>7.76</td>\n",
       "      <td>0.921603</td>\n",
       "      <td>617.0</td>\n",
       "    </tr>\n",
       "    <tr>\n",
       "      <th>5</th>\n",
       "      <td>Hello!! Kiniro Mosaic</td>\n",
       "      <td>Apr 6, 2015 to Jun 22, 2015</td>\n",
       "      <td>https://myanimelist.net/anime/23269</td>\n",
       "      <td>0.787564</td>\n",
       "      <td>7.53</td>\n",
       "      <td>0.850557</td>\n",
       "      <td>596.0</td>\n",
       "    </tr>\n",
       "    <tr>\n",
       "      <th>6</th>\n",
       "      <td>Amagami SS+ Plus</td>\n",
       "      <td>Jan 6, 2012 to Mar 30, 2012</td>\n",
       "      <td>https://myanimelist.net/anime/11235</td>\n",
       "      <td>0.746025</td>\n",
       "      <td>7.44</td>\n",
       "      <td>0.868687</td>\n",
       "      <td>592.5</td>\n",
       "    </tr>\n",
       "    <tr>\n",
       "      <th>34</th>\n",
       "      <td>Slow Start</td>\n",
       "      <td>Jan 7, 2018 to Mar 25, 2018</td>\n",
       "      <td>https://myanimelist.net/anime/35540</td>\n",
       "      <td>0.414611</td>\n",
       "      <td>7.03</td>\n",
       "      <td>0.937880</td>\n",
       "      <td>592.5</td>\n",
       "    </tr>\n",
       "    <tr>\n",
       "      <th>83</th>\n",
       "      <td>Ani ni Tsukeru Kusuri wa Nai!</td>\n",
       "      <td>Apr 7, 2017 to Jun 23, 2017</td>\n",
       "      <td>https://myanimelist.net/anime/35015</td>\n",
       "      <td>0.209817</td>\n",
       "      <td>7.46</td>\n",
       "      <td>0.937880</td>\n",
       "      <td>587.0</td>\n",
       "    </tr>\n",
       "    <tr>\n",
       "      <th>15</th>\n",
       "      <td>Heya Camp△</td>\n",
       "      <td>Jan 6, 2020 to Mar 23, 2020</td>\n",
       "      <td>https://myanimelist.net/anime/38476</td>\n",
       "      <td>0.607571</td>\n",
       "      <td>7.19</td>\n",
       "      <td>0.921603</td>\n",
       "      <td>586.0</td>\n",
       "    </tr>\n",
       "  </tbody>\n",
       "</table>\n",
       "</div>"
      ],
      "text/plain": [
       "                                         name                          date  \\\n",
       "4                           Minami-ke Tadaima   Jan 6, 2013 to Mar 31, 2013   \n",
       "31            Jungle wa Itsumo Hare nochi Guu   Apr 3, 2001 to Sep 25, 2001   \n",
       "46                                 Kuragehime  Oct 15, 2010 to Dec 31, 2010   \n",
       "19             Gakuen Utopia Manabi Straight!   Jan 8, 2007 to Mar 26, 2007   \n",
       "39  Doukyonin wa Hiza, Tokidoki, Atama no Ue.   Jan 9, 2019 to Mar 27, 2019   \n",
       "5                       Hello!! Kiniro Mosaic   Apr 6, 2015 to Jun 22, 2015   \n",
       "6                            Amagami SS+ Plus   Jan 6, 2012 to Mar 30, 2012   \n",
       "34                                 Slow Start   Jan 7, 2018 to Mar 25, 2018   \n",
       "83              Ani ni Tsukeru Kusuri wa Nai!   Apr 7, 2017 to Jun 23, 2017   \n",
       "15                                 Heya Camp△   Jan 6, 2020 to Mar 23, 2020   \n",
       "\n",
       "                                    url  ALS score score mal  correlation  \\\n",
       "4   https://myanimelist.net/anime/14511   0.811060      7.69     0.937880   \n",
       "31    https://myanimelist.net/anime/253   0.467690      7.84     0.937880   \n",
       "46   https://myanimelist.net/anime/8129   0.350606      8.13     0.921603   \n",
       "19   https://myanimelist.net/anime/1858   0.570038      7.28     0.937880   \n",
       "39  https://myanimelist.net/anime/38145   0.406184      7.76     0.921603   \n",
       "5   https://myanimelist.net/anime/23269   0.787564      7.53     0.850557   \n",
       "6   https://myanimelist.net/anime/11235   0.746025      7.44     0.868687   \n",
       "34  https://myanimelist.net/anime/35540   0.414611      7.03     0.937880   \n",
       "83  https://myanimelist.net/anime/35015   0.209817      7.46     0.937880   \n",
       "15  https://myanimelist.net/anime/38476   0.607571      7.19     0.921603   \n",
       "\n",
       "     rank  \n",
       "4   685.5  \n",
       "31  669.5  \n",
       "46  631.0  \n",
       "19  628.0  \n",
       "39  617.0  \n",
       "5   596.0  \n",
       "6   592.5  \n",
       "34  592.5  \n",
       "83  587.0  \n",
       "15  586.0  "
      ]
     },
     "execution_count": 22,
     "metadata": {},
     "output_type": "execute_result"
    }
   ],
   "source": [
    "rec_final(anime_id).to_html(f'{\" \".join(map((str), selected_genres))} {\" \".join(map((str), types_anime))} ALS recommendations {min_year} - {max_year}.html', encoding='utf-8', index=False, render_links=True)\n",
    "rec_final(anime_id)[:10]"
   ]
  },
  {
   "cell_type": "code",
   "execution_count": 23,
   "metadata": {},
   "outputs": [],
   "source": [
    "rec_final(popularity_anime['anime_id'][:250]).to_html(f'{\" \".join(map((str), selected_genres))} {\" \".join(map((str), types_anime))} anime from users dataset {min_year} - {max_year}.html', encoding='utf-8', index=False, render_links=True)"
   ]
  },
  {
   "cell_type": "code",
   "execution_count": 24,
   "metadata": {},
   "outputs": [
    {
     "name": "stderr",
     "output_type": "stream",
     "text": [
      "C:\\Users\\ksn\\AppData\\Local\\Temp\\ipykernel_2324\\1905785775.py:2: SettingWithCopyWarning: \n",
      "A value is trying to be set on a copy of a slice from a DataFrame.\n",
      "Try using .loc[row_indexer,col_indexer] = value instead\n",
      "\n",
      "See the caveats in the documentation: https://pandas.pydata.org/pandas-docs/stable/user_guide/indexing.html#returning-a-view-versus-a-copy\n",
      "  anime_ranked['rank'] = anime_ranked['Score'].rank() + anime_ranked['Popularity'].rank(ascending=False)\n"
     ]
    }
   ],
   "source": [
    "anime_ranked = anime3.loc[~anime3['Score'].isin(['Unknown'])]\n",
    "anime_ranked['rank'] = anime_ranked['Score'].rank() + anime_ranked['Popularity'].rank(ascending=False)\n",
    "rec_final(anime_ranked.sort_values('rank', ascending=False)['anime_id'][:250])\\\n",
    ".to_html(f'{\" \".join(map((str), selected_genres))} {\" \".join(map((str), types_anime))} anime by score and popularity {min_year} - {max_year}.html', encoding='utf-8', index=False, render_links=True)"
   ]
  },
  {
   "cell_type": "code",
   "execution_count": null,
   "metadata": {},
   "outputs": [],
   "source": []
  }
 ],
 "metadata": {
  "kernelspec": {
   "display_name": "Python 3 (ipykernel)",
   "language": "python",
   "name": "python3"
  },
  "language_info": {
   "codemirror_mode": {
    "name": "ipython",
    "version": 3
   },
   "file_extension": ".py",
   "mimetype": "text/x-python",
   "name": "python",
   "nbconvert_exporter": "python",
   "pygments_lexer": "ipython3",
   "version": "3.11.4"
  }
 },
 "nbformat": 4,
 "nbformat_minor": 4
}
