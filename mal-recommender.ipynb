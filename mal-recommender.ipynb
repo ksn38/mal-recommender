{
 "cells": [
  {
   "cell_type": "code",
   "execution_count": 1,
   "metadata": {},
   "outputs": [],
   "source": [
    "import pandas as pd\n",
    "import numpy as np\n",
    "import matplotlib.pyplot as plt\n",
    "import re\n",
    "%matplotlib inline"
   ]
  },
  {
   "cell_type": "code",
   "execution_count": 2,
   "metadata": {},
   "outputs": [
    {
     "name": "stdout",
     "output_type": "stream",
     "text": [
      "57633278\n"
     ]
    },
    {
     "data": {
      "text/html": [
       "<div>\n",
       "<style scoped>\n",
       "    .dataframe tbody tr th:only-of-type {\n",
       "        vertical-align: middle;\n",
       "    }\n",
       "\n",
       "    .dataframe tbody tr th {\n",
       "        vertical-align: top;\n",
       "    }\n",
       "\n",
       "    .dataframe thead th {\n",
       "        text-align: right;\n",
       "    }\n",
       "</style>\n",
       "<table border=\"1\" class=\"dataframe\">\n",
       "  <thead>\n",
       "    <tr style=\"text-align: right;\">\n",
       "      <th></th>\n",
       "      <th>user_id</th>\n",
       "      <th>anime_id</th>\n",
       "      <th>rating</th>\n",
       "    </tr>\n",
       "  </thead>\n",
       "  <tbody>\n",
       "    <tr>\n",
       "      <th>0</th>\n",
       "      <td>0</td>\n",
       "      <td>430</td>\n",
       "      <td>9</td>\n",
       "    </tr>\n",
       "    <tr>\n",
       "      <th>1</th>\n",
       "      <td>0</td>\n",
       "      <td>1004</td>\n",
       "      <td>5</td>\n",
       "    </tr>\n",
       "  </tbody>\n",
       "</table>\n",
       "</div>"
      ],
      "text/plain": [
       "   user_id  anime_id  rating\n",
       "0        0       430       9\n",
       "1        0      1004       5"
      ]
     },
     "execution_count": 2,
     "metadata": {},
     "output_type": "execute_result"
    }
   ],
   "source": [
    "data = pd.read_csv('data/rating_complete.csv')\n",
    "print(len(data))\n",
    "data.head(2)"
   ]
  },
  {
   "cell_type": "code",
   "execution_count": 3,
   "metadata": {},
   "outputs": [
    {
     "data": {
      "text/html": [
       "<div>\n",
       "<style scoped>\n",
       "    .dataframe tbody tr th:only-of-type {\n",
       "        vertical-align: middle;\n",
       "    }\n",
       "\n",
       "    .dataframe tbody tr th {\n",
       "        vertical-align: top;\n",
       "    }\n",
       "\n",
       "    .dataframe thead th {\n",
       "        text-align: right;\n",
       "    }\n",
       "</style>\n",
       "<table border=\"1\" class=\"dataframe\">\n",
       "  <thead>\n",
       "    <tr style=\"text-align: right;\">\n",
       "      <th></th>\n",
       "      <th>anime_id</th>\n",
       "      <th>Name</th>\n",
       "      <th>Score</th>\n",
       "      <th>Genres</th>\n",
       "      <th>English name</th>\n",
       "      <th>Japanese name</th>\n",
       "      <th>Type</th>\n",
       "      <th>Episodes</th>\n",
       "      <th>Aired</th>\n",
       "      <th>Premiered</th>\n",
       "      <th>...</th>\n",
       "      <th>Score-10</th>\n",
       "      <th>Score-9</th>\n",
       "      <th>Score-8</th>\n",
       "      <th>Score-7</th>\n",
       "      <th>Score-6</th>\n",
       "      <th>Score-5</th>\n",
       "      <th>Score-4</th>\n",
       "      <th>Score-3</th>\n",
       "      <th>Score-2</th>\n",
       "      <th>Score-1</th>\n",
       "    </tr>\n",
       "  </thead>\n",
       "  <tbody>\n",
       "    <tr>\n",
       "      <th>0</th>\n",
       "      <td>1</td>\n",
       "      <td>Cowboy Bebop</td>\n",
       "      <td>8.78</td>\n",
       "      <td>Action, Adventure, Comedy, Drama, Sci-Fi, Space</td>\n",
       "      <td>Cowboy Bebop</td>\n",
       "      <td>カウボーイビバップ</td>\n",
       "      <td>TV</td>\n",
       "      <td>26</td>\n",
       "      <td>Apr 3, 1998 to Apr 24, 1999</td>\n",
       "      <td>Spring 1998</td>\n",
       "      <td>...</td>\n",
       "      <td>229170.0</td>\n",
       "      <td>182126.0</td>\n",
       "      <td>131625.0</td>\n",
       "      <td>62330.0</td>\n",
       "      <td>20688.0</td>\n",
       "      <td>8904.0</td>\n",
       "      <td>3184.0</td>\n",
       "      <td>1357.0</td>\n",
       "      <td>741.0</td>\n",
       "      <td>1580.0</td>\n",
       "    </tr>\n",
       "    <tr>\n",
       "      <th>1</th>\n",
       "      <td>5</td>\n",
       "      <td>Cowboy Bebop: Tengoku no Tobira</td>\n",
       "      <td>8.39</td>\n",
       "      <td>Action, Drama, Mystery, Sci-Fi, Space</td>\n",
       "      <td>Cowboy Bebop:The Movie</td>\n",
       "      <td>カウボーイビバップ 天国の扉</td>\n",
       "      <td>Movie</td>\n",
       "      <td>1</td>\n",
       "      <td>Sep 1, 2001</td>\n",
       "      <td>Unknown</td>\n",
       "      <td>...</td>\n",
       "      <td>30043.0</td>\n",
       "      <td>49201.0</td>\n",
       "      <td>49505.0</td>\n",
       "      <td>22632.0</td>\n",
       "      <td>5805.0</td>\n",
       "      <td>1877.0</td>\n",
       "      <td>577.0</td>\n",
       "      <td>221.0</td>\n",
       "      <td>109.0</td>\n",
       "      <td>379.0</td>\n",
       "    </tr>\n",
       "  </tbody>\n",
       "</table>\n",
       "<p>2 rows × 35 columns</p>\n",
       "</div>"
      ],
      "text/plain": [
       "   anime_id                             Name Score  \\\n",
       "0         1                     Cowboy Bebop  8.78   \n",
       "1         5  Cowboy Bebop: Tengoku no Tobira  8.39   \n",
       "\n",
       "                                            Genres            English name  \\\n",
       "0  Action, Adventure, Comedy, Drama, Sci-Fi, Space            Cowboy Bebop   \n",
       "1            Action, Drama, Mystery, Sci-Fi, Space  Cowboy Bebop:The Movie   \n",
       "\n",
       "    Japanese name   Type Episodes                        Aired    Premiered  \\\n",
       "0       カウボーイビバップ     TV       26  Apr 3, 1998 to Apr 24, 1999  Spring 1998   \n",
       "1  カウボーイビバップ 天国の扉  Movie        1                  Sep 1, 2001      Unknown   \n",
       "\n",
       "   ...  Score-10   Score-9   Score-8  Score-7  Score-6 Score-5 Score-4  \\\n",
       "0  ...  229170.0  182126.0  131625.0  62330.0  20688.0  8904.0  3184.0   \n",
       "1  ...   30043.0   49201.0   49505.0  22632.0   5805.0  1877.0   577.0   \n",
       "\n",
       "   Score-3  Score-2  Score-1  \n",
       "0   1357.0    741.0   1580.0  \n",
       "1    221.0    109.0    379.0  \n",
       "\n",
       "[2 rows x 35 columns]"
      ]
     },
     "execution_count": 3,
     "metadata": {},
     "output_type": "execute_result"
    }
   ],
   "source": [
    "anime = pd.read_csv('data/anime.csv')\n",
    "anime = anime.rename(columns={\"MAL_ID\": \"anime_id\"})\n",
    "anime.head(2)"
   ]
  },
  {
   "cell_type": "code",
   "execution_count": 4,
   "metadata": {},
   "outputs": [],
   "source": [
    "data_train = data\n",
    "my_animelist = pd.read_csv('400000.csv')"
   ]
  },
  {
   "cell_type": "code",
   "execution_count": 5,
   "metadata": {},
   "outputs": [
    {
     "data": {
      "text/html": [
       "<div>\n",
       "<style scoped>\n",
       "    .dataframe tbody tr th:only-of-type {\n",
       "        vertical-align: middle;\n",
       "    }\n",
       "\n",
       "    .dataframe tbody tr th {\n",
       "        vertical-align: top;\n",
       "    }\n",
       "\n",
       "    .dataframe thead th {\n",
       "        text-align: right;\n",
       "    }\n",
       "</style>\n",
       "<table border=\"1\" class=\"dataframe\">\n",
       "  <thead>\n",
       "    <tr style=\"text-align: right;\">\n",
       "      <th></th>\n",
       "      <th>Thriller</th>\n",
       "      <th>Psychological</th>\n",
       "      <th>Shounen</th>\n",
       "      <th>Seinen</th>\n",
       "      <th>Comedy</th>\n",
       "      <th>Samurai</th>\n",
       "      <th>Cars</th>\n",
       "      <th>Mystery</th>\n",
       "      <th>Mecha</th>\n",
       "      <th>Dementia</th>\n",
       "      <th>...</th>\n",
       "      <th>Space</th>\n",
       "      <th>Adventure</th>\n",
       "      <th>Supernatural</th>\n",
       "      <th>Shounen Ai</th>\n",
       "      <th>Parody</th>\n",
       "      <th>Military</th>\n",
       "      <th>Drama</th>\n",
       "      <th>Game</th>\n",
       "      <th>Sci-Fi</th>\n",
       "      <th>Sports</th>\n",
       "    </tr>\n",
       "    <tr>\n",
       "      <th>anime_id</th>\n",
       "      <th></th>\n",
       "      <th></th>\n",
       "      <th></th>\n",
       "      <th></th>\n",
       "      <th></th>\n",
       "      <th></th>\n",
       "      <th></th>\n",
       "      <th></th>\n",
       "      <th></th>\n",
       "      <th></th>\n",
       "      <th></th>\n",
       "      <th></th>\n",
       "      <th></th>\n",
       "      <th></th>\n",
       "      <th></th>\n",
       "      <th></th>\n",
       "      <th></th>\n",
       "      <th></th>\n",
       "      <th></th>\n",
       "      <th></th>\n",
       "      <th></th>\n",
       "    </tr>\n",
       "  </thead>\n",
       "  <tbody>\n",
       "    <tr>\n",
       "      <th>1</th>\n",
       "      <td>0</td>\n",
       "      <td>0</td>\n",
       "      <td>0</td>\n",
       "      <td>0</td>\n",
       "      <td>1</td>\n",
       "      <td>0</td>\n",
       "      <td>0</td>\n",
       "      <td>0</td>\n",
       "      <td>0</td>\n",
       "      <td>0</td>\n",
       "      <td>...</td>\n",
       "      <td>1</td>\n",
       "      <td>1</td>\n",
       "      <td>0</td>\n",
       "      <td>0</td>\n",
       "      <td>0</td>\n",
       "      <td>0</td>\n",
       "      <td>1</td>\n",
       "      <td>0</td>\n",
       "      <td>1</td>\n",
       "      <td>0</td>\n",
       "    </tr>\n",
       "    <tr>\n",
       "      <th>5</th>\n",
       "      <td>0</td>\n",
       "      <td>0</td>\n",
       "      <td>0</td>\n",
       "      <td>0</td>\n",
       "      <td>0</td>\n",
       "      <td>0</td>\n",
       "      <td>0</td>\n",
       "      <td>1</td>\n",
       "      <td>0</td>\n",
       "      <td>0</td>\n",
       "      <td>...</td>\n",
       "      <td>1</td>\n",
       "      <td>0</td>\n",
       "      <td>0</td>\n",
       "      <td>0</td>\n",
       "      <td>0</td>\n",
       "      <td>0</td>\n",
       "      <td>1</td>\n",
       "      <td>0</td>\n",
       "      <td>1</td>\n",
       "      <td>0</td>\n",
       "    </tr>\n",
       "    <tr>\n",
       "      <th>6</th>\n",
       "      <td>0</td>\n",
       "      <td>0</td>\n",
       "      <td>1</td>\n",
       "      <td>0</td>\n",
       "      <td>1</td>\n",
       "      <td>0</td>\n",
       "      <td>0</td>\n",
       "      <td>0</td>\n",
       "      <td>0</td>\n",
       "      <td>0</td>\n",
       "      <td>...</td>\n",
       "      <td>0</td>\n",
       "      <td>1</td>\n",
       "      <td>0</td>\n",
       "      <td>0</td>\n",
       "      <td>0</td>\n",
       "      <td>0</td>\n",
       "      <td>1</td>\n",
       "      <td>0</td>\n",
       "      <td>1</td>\n",
       "      <td>0</td>\n",
       "    </tr>\n",
       "  </tbody>\n",
       "</table>\n",
       "<p>3 rows × 39 columns</p>\n",
       "</div>"
      ],
      "text/plain": [
       "          Thriller  Psychological  Shounen  Seinen  Comedy  Samurai  Cars  \\\n",
       "anime_id                                                                    \n",
       "1                0              0        0       0       1        0     0   \n",
       "5                0              0        0       0       0        0     0   \n",
       "6                0              0        1       0       1        0     0   \n",
       "\n",
       "          Mystery  Mecha  Dementia  ...  Space  Adventure  Supernatural  \\\n",
       "anime_id                            ...                                   \n",
       "1               0      0         0  ...      1          1             0   \n",
       "5               1      0         0  ...      1          0             0   \n",
       "6               0      0         0  ...      0          1             0   \n",
       "\n",
       "          Shounen Ai  Parody  Military  Drama  Game  Sci-Fi  Sports  \n",
       "anime_id                                                             \n",
       "1                  0       0         0      1     0       1       0  \n",
       "5                  0       0         0      1     0       1       0  \n",
       "6                  0       0         0      1     0       1       0  \n",
       "\n",
       "[3 rows x 39 columns]"
      ]
     },
     "execution_count": 5,
     "metadata": {},
     "output_type": "execute_result"
    }
   ],
   "source": [
    "genres = []\n",
    "\n",
    "for i in range(len(anime)):\n",
    "    genres.extend(anime.iloc[i]['Genres'].split(', '))\n",
    "\n",
    "colms = list(set(genres))\n",
    "\n",
    "df_genres = pd.DataFrame(columns=colms)\n",
    "df_genres['anime_id'] = anime['anime_id']\n",
    "df_genres = df_genres.fillna(0)\n",
    "df_genres.index = df_genres['anime_id']\n",
    "df_genres.drop('anime_id', axis=1, inplace=True)\n",
    "\n",
    "for i in anime['anime_id'].values:\n",
    "    list_genres = anime.loc[anime['anime_id'] == i]['Genres'].values[0].split(', ')\n",
    "    for j in list_genres:\n",
    "        df_genres.at[i, j] = 1\n",
    "\n",
    "sum_col = [sum(df_genres[i]) for i in df_genres.columns]\n",
    "\n",
    "for i in df_genres.columns:\n",
    "    if sum(df_genres[i]) < np.percentile(np.array(sum_col), 10):\n",
    "        try:\n",
    "            df_genres.drop(i, axis=1, inplace=True)\n",
    "        except KeyError:\n",
    "            pass\n",
    "\n",
    "df_genres.head(3)"
   ]
  },
  {
   "cell_type": "markdown",
   "metadata": {},
   "source": [
    "limit by years"
   ]
  },
  {
   "cell_type": "code",
   "execution_count": 6,
   "metadata": {},
   "outputs": [
    {
     "data": {
      "text/plain": [
       "52982646"
      ]
     },
     "execution_count": 6,
     "metadata": {},
     "output_type": "execute_result"
    }
   ],
   "source": [
    "max_year = 9999\n",
    "min_year = 2000\n",
    "\n",
    "anime_id = []\n",
    "year = []\n",
    "\n",
    "for i in anime['anime_id']:\n",
    "    anime_id.append(i)\n",
    "    try:\n",
    "        year.append(int(re.findall('[0-9]{4}', str(anime.loc[anime['anime_id'] == i]['Aired'].values[0]))[0]))\n",
    "    except IndexError:\n",
    "        year.append(8888)\n",
    "\n",
    "df_year = pd.DataFrame({'anime_id': anime_id, 'year': year})\n",
    "df_year = df_year.loc[(df_year['year'] < max_year)&(df_year['year'] > min_year)]\n",
    "\n",
    "data_train = data_train.loc[data_train['anime_id'].isin(df_year['anime_id'])]\n",
    "my_animelist = my_animelist.loc[my_animelist['anime_id'].isin(df_year['anime_id'])]\n",
    "len(data_train)"
   ]
  },
  {
   "cell_type": "code",
   "execution_count": 7,
   "metadata": {},
   "outputs": [
    {
     "data": {
      "text/plain": [
       "36654228"
      ]
     },
     "execution_count": 7,
     "metadata": {},
     "output_type": "execute_result"
    }
   ],
   "source": [
    "my_type = anime.loc[anime['Type'] == 'TV']['anime_id'].values.tolist()\n",
    "data_train = data_train.loc[data_train['anime_id'].isin(my_type)]\n",
    "len(data_train)"
   ]
  },
  {
   "cell_type": "markdown",
   "metadata": {},
   "source": [
    "### reducing amount of data"
   ]
  },
  {
   "cell_type": "code",
   "execution_count": 8,
   "metadata": {},
   "outputs": [
    {
     "data": {
      "text/html": [
       "<div>\n",
       "<style scoped>\n",
       "    .dataframe tbody tr th:only-of-type {\n",
       "        vertical-align: middle;\n",
       "    }\n",
       "\n",
       "    .dataframe tbody tr th {\n",
       "        vertical-align: top;\n",
       "    }\n",
       "\n",
       "    .dataframe thead th {\n",
       "        text-align: right;\n",
       "    }\n",
       "</style>\n",
       "<table border=\"1\" class=\"dataframe\">\n",
       "  <thead>\n",
       "    <tr style=\"text-align: right;\">\n",
       "      <th></th>\n",
       "      <th>anime_id</th>\n",
       "      <th>rating_rank</th>\n",
       "    </tr>\n",
       "  </thead>\n",
       "  <tbody>\n",
       "    <tr>\n",
       "      <th>442</th>\n",
       "      <td>1535</td>\n",
       "      <td>3547.0</td>\n",
       "    </tr>\n",
       "    <tr>\n",
       "      <th>1584</th>\n",
       "      <td>16498</td>\n",
       "      <td>3546.0</td>\n",
       "    </tr>\n",
       "    <tr>\n",
       "      <th>1377</th>\n",
       "      <td>11757</td>\n",
       "      <td>3545.0</td>\n",
       "    </tr>\n",
       "  </tbody>\n",
       "</table>\n",
       "</div>"
      ],
      "text/plain": [
       "      anime_id  rating_rank\n",
       "442       1535       3547.0\n",
       "1584     16498       3546.0\n",
       "1377     11757       3545.0"
      ]
     },
     "execution_count": 8,
     "metadata": {},
     "output_type": "execute_result"
    }
   ],
   "source": [
    "popularity_anime = data_train.groupby('anime_id')['rating'].count().reset_index().sort_values('rating', ascending=False)\n",
    "popularity_anime['rating_rank'] = popularity_anime['rating'].rank()\n",
    "popularity_anime.drop('rating', axis=1, inplace=True)\n",
    "popularity_anime.head(3)"
   ]
  },
  {
   "cell_type": "code",
   "execution_count": 9,
   "metadata": {},
   "outputs": [],
   "source": [
    "data_train = pd.merge(data_train, popularity_anime, how='left', on='anime_id')"
   ]
  },
  {
   "cell_type": "code",
   "execution_count": 10,
   "metadata": {},
   "outputs": [
    {
     "data": {
      "text/html": [
       "<div>\n",
       "<style scoped>\n",
       "    .dataframe tbody tr th:only-of-type {\n",
       "        vertical-align: middle;\n",
       "    }\n",
       "\n",
       "    .dataframe tbody tr th {\n",
       "        vertical-align: top;\n",
       "    }\n",
       "\n",
       "    .dataframe thead th {\n",
       "        text-align: right;\n",
       "    }\n",
       "</style>\n",
       "<table border=\"1\" class=\"dataframe\">\n",
       "  <thead>\n",
       "    <tr style=\"text-align: right;\">\n",
       "      <th></th>\n",
       "      <th>user_id</th>\n",
       "      <th>rating_rank</th>\n",
       "    </tr>\n",
       "  </thead>\n",
       "  <tbody>\n",
       "    <tr>\n",
       "      <th>0</th>\n",
       "      <td>189037</td>\n",
       "      <td>6144310.5</td>\n",
       "    </tr>\n",
       "    <tr>\n",
       "      <th>1</th>\n",
       "      <td>68042</td>\n",
       "      <td>6080171.0</td>\n",
       "    </tr>\n",
       "    <tr>\n",
       "      <th>2</th>\n",
       "      <td>283786</td>\n",
       "      <td>5996304.0</td>\n",
       "    </tr>\n",
       "  </tbody>\n",
       "</table>\n",
       "</div>"
      ],
      "text/plain": [
       "   user_id  rating_rank\n",
       "0   189037    6144310.5\n",
       "1    68042    6080171.0\n",
       "2   283786    5996304.0"
      ]
     },
     "execution_count": 10,
     "metadata": {},
     "output_type": "execute_result"
    }
   ],
   "source": [
    "user_sum_rating = data_train.groupby('user_id')['rating_rank'].sum().reset_index().sort_values('rating_rank', ascending=False).reset_index(drop=True)\n",
    "user_sum_rating.head(3)"
   ]
  },
  {
   "cell_type": "code",
   "execution_count": 11,
   "metadata": {},
   "outputs": [
    {
     "data": {
      "text/html": [
       "<div>\n",
       "<style scoped>\n",
       "    .dataframe tbody tr th:only-of-type {\n",
       "        vertical-align: middle;\n",
       "    }\n",
       "\n",
       "    .dataframe tbody tr th {\n",
       "        vertical-align: top;\n",
       "    }\n",
       "\n",
       "    .dataframe thead th {\n",
       "        text-align: right;\n",
       "    }\n",
       "</style>\n",
       "<table border=\"1\" class=\"dataframe\">\n",
       "  <thead>\n",
       "    <tr style=\"text-align: right;\">\n",
       "      <th></th>\n",
       "      <th>user_id</th>\n",
       "      <th>rating_rank</th>\n",
       "    </tr>\n",
       "  </thead>\n",
       "  <tbody>\n",
       "    <tr>\n",
       "      <th>0</th>\n",
       "      <td>189037</td>\n",
       "      <td>3371</td>\n",
       "    </tr>\n",
       "    <tr>\n",
       "      <th>1</th>\n",
       "      <td>68042</td>\n",
       "      <td>3234</td>\n",
       "    </tr>\n",
       "    <tr>\n",
       "      <th>2</th>\n",
       "      <td>162615</td>\n",
       "      <td>3070</td>\n",
       "    </tr>\n",
       "  </tbody>\n",
       "</table>\n",
       "</div>"
      ],
      "text/plain": [
       "   user_id  rating_rank\n",
       "0   189037         3371\n",
       "1    68042         3234\n",
       "2   162615         3070"
      ]
     },
     "execution_count": 11,
     "metadata": {},
     "output_type": "execute_result"
    }
   ],
   "source": [
    "user_count_rating = data_train.groupby('user_id')['rating_rank'].count().reset_index().sort_values('rating_rank', ascending=False).reset_index(drop=True)\n",
    "user_count_rating.head(3)"
   ]
  },
  {
   "cell_type": "code",
   "execution_count": 12,
   "metadata": {},
   "outputs": [
    {
     "data": {
      "text/html": [
       "<div>\n",
       "<style scoped>\n",
       "    .dataframe tbody tr th:only-of-type {\n",
       "        vertical-align: middle;\n",
       "    }\n",
       "\n",
       "    .dataframe tbody tr th {\n",
       "        vertical-align: top;\n",
       "    }\n",
       "\n",
       "    .dataframe thead th {\n",
       "        text-align: right;\n",
       "    }\n",
       "</style>\n",
       "<table border=\"1\" class=\"dataframe\">\n",
       "  <thead>\n",
       "    <tr style=\"text-align: right;\">\n",
       "      <th></th>\n",
       "      <th>user_id</th>\n",
       "      <th>rating_rank</th>\n",
       "    </tr>\n",
       "  </thead>\n",
       "  <tbody>\n",
       "    <tr>\n",
       "      <th>0</th>\n",
       "      <td>189037</td>\n",
       "      <td>1822.696678</td>\n",
       "    </tr>\n",
       "    <tr>\n",
       "      <th>1</th>\n",
       "      <td>68042</td>\n",
       "      <td>1880.077613</td>\n",
       "    </tr>\n",
       "    <tr>\n",
       "      <th>2</th>\n",
       "      <td>283786</td>\n",
       "      <td>2071.262176</td>\n",
       "    </tr>\n",
       "  </tbody>\n",
       "</table>\n",
       "</div>"
      ],
      "text/plain": [
       "   user_id  rating_rank\n",
       "0   189037  1822.696678\n",
       "1    68042  1880.077613\n",
       "2   283786  2071.262176"
      ]
     },
     "execution_count": 12,
     "metadata": {},
     "output_type": "execute_result"
    }
   ],
   "source": [
    "user_rating = pd.merge(user_sum_rating, user_count_rating, how='left', on='user_id')\n",
    "user_rating['rating_rank'] = user_rating['rating_rank_x']/user_rating['rating_rank_y']\n",
    "user_rating.drop(['rating_rank_x', 'rating_rank_y'], axis=1, inplace=True)\n",
    "user_rating.head(3)"
   ]
  },
  {
   "cell_type": "code",
   "execution_count": 13,
   "metadata": {},
   "outputs": [
    {
     "data": {
      "image/png": "[encoded data removed]",
      "text/plain": [
       "<Figure size 640x480 with 1 Axes>"
      ]
     },
     "metadata": {},
     "output_type": "display_data"
    }
   ],
   "source": [
    "plt.boxplot(user_rating['rating_rank'], vert=False)\n",
    "plt.show()"
   ]
  },
  {
   "cell_type": "markdown",
   "metadata": {},
   "source": [
    "selected interquartile range "
   ]
  },
  {
   "cell_type": "code",
   "execution_count": 14,
   "metadata": {},
   "outputs": [
    {
     "name": "stdout",
     "output_type": "stream",
     "text": [
      "Q1=2886.75, Q3=3078.958591822144\n"
     ]
    },
    {
     "data": {
      "image/png": "[encoded data removed]",
      "text/plain": [
       "<Figure size 640x480 with 1 Axes>"
      ]
     },
     "metadata": {},
     "output_type": "display_data"
    }
   ],
   "source": [
    "Q1 = user_rating['rating_rank'].quantile(0.1)\n",
    "Q3 = user_rating['rating_rank'].quantile(0.3)\n",
    "print(f'Q1={Q1}, Q3={Q3}')\n",
    "user_rating_iqr = user_rating.loc[(user_rating['rating_rank'] < Q3) & (user_rating['rating_rank'] > Q1)]\n",
    "user_list = user_rating_iqr['user_id'].tolist()\n",
    "plt.boxplot(user_rating_iqr['rating_rank'], vert=False)\n",
    "plt.show()"
   ]
  },
  {
   "cell_type": "code",
   "execution_count": 15,
   "metadata": {},
   "outputs": [
    {
     "data": {
      "text/plain": [
       "10862558"
      ]
     },
     "execution_count": 15,
     "metadata": {},
     "output_type": "execute_result"
    }
   ],
   "source": [
    "data_train = data_train.loc[data_train['user_id'].isin(user_list)]\n",
    "# data_train.drop('rating_rank', axis=1, inplace=True)\n",
    "data_train = pd.concat([data_train, my_animelist], ignore_index=True)\n",
    "len(data_train)"
   ]
  },
  {
   "cell_type": "code",
   "execution_count": 16,
   "metadata": {
    "scrolled": true
   },
   "outputs": [
    {
     "name": "stderr",
     "output_type": "stream",
     "text": [
      "C:\\Python311\\Lib\\site-packages\\tqdm\\auto.py:21: TqdmWarning: IProgress not found. Please update jupyter and ipywidgets. See https://ipywidgets.readthedocs.io/en/stable/user_install.html\n",
      "  from .autonotebook import tqdm as notebook_tqdm\n",
      "C:\\Python311\\Lib\\site-packages\\implicit\\cpu\\als.py:95: RuntimeWarning: OpenBLAS is configured to use 12 threads. It is highly recommended to disable its internal threadpool by setting the environment variable 'OPENBLAS_NUM_THREADS=1' or by calling 'threadpoolctl.threadpool_limits(1, \"blas\")'. Having OpenBLAS use a threadpool can lead to severe performance issues here.\n",
      "  check_blas_config()\n",
      "100%|██████████████████████████████████████████████████████████████████████████████████| 20/20 [01:12<00:00,  3.64s/it]\n"
     ]
    }
   ],
   "source": [
    "import implicit\n",
    "from scipy.sparse import csr_matrix\n",
    "\n",
    "# initialize a model\n",
    "model = implicit.als.AlternatingLeastSquares(factors=100,\n",
    "                                        regularization=0.05, \n",
    "                                        alpha=2.0,\n",
    "                                        iterations=20,\n",
    "                                        random_state=38)\n",
    "\n",
    "# train the model on a sparse matrix of user/item/confidence weights\n",
    "user_item_matrix = pd.pivot_table(data_train,\n",
    "                                  index='user_id', columns='anime_id',\n",
    "                                  values='rating',\n",
    "                                  fill_value=0)\n",
    "\n",
    "# scipy resets indexes\n",
    "idALS_anime_id = dict((i, j) for i, j in enumerate(user_item_matrix.columns))\n",
    "\n",
    "user_item_matrix = user_item_matrix.astype(float)\n",
    "user_item_matrix_csr = csr_matrix(user_item_matrix).tocsr()\n",
    "\n",
    "model.fit(user_item_matrix_csr)"
   ]
  },
  {
   "cell_type": "code",
   "execution_count": 17,
   "metadata": {},
   "outputs": [],
   "source": [
    "from implicit.nearest_neighbours import bm25_weight\n",
    "\n",
    "# weight the matrix, both to reduce impact of users that have played the same artist thousands of times\n",
    "# and to reduce the weight given to popular items\n",
    "#user_item_matrix_csr = bm25_weight(user_item_matrix_csr, K1=100, B=0.8)"
   ]
  },
  {
   "cell_type": "code",
   "execution_count": 18,
   "metadata": {},
   "outputs": [],
   "source": [
    "id_score = model.recommend(-1, user_item_matrix_csr[-1], N=250, filter_already_liked_items=True)\n",
    "anime_id = [idALS_anime_id[i] for i in id_score[0]]\n",
    "ALScore = dict((i, j) for i, j in zip(anime_id, id_score[1]))"
   ]
  },
  {
   "cell_type": "code",
   "execution_count": 19,
   "metadata": {},
   "outputs": [],
   "source": [
    "my_animelist = my_animelist.loc[my_animelist['rating'] > 6]\n",
    "my_genres = df_genres[df_genres.index.isin(my_animelist['anime_id'])].mean().values\n",
    "\n",
    "def rec_final(rec):\n",
    "    name = []\n",
    "    date = []\n",
    "    url = []\n",
    "    als_score = []\n",
    "    score_mal = []\n",
    "    corr = []\n",
    "\n",
    "    for i in rec:\n",
    "        if i not in set(my_animelist['anime_id']):\n",
    "            name.append(anime.loc[anime['anime_id'] == i]['Name'].values[0])\n",
    "            date.append(anime.loc[anime['anime_id'] == i]['Aired'].values[0])\n",
    "            url.append('https://myanimelist.net/anime/' + str(i))\n",
    "            if type(rec) == list:\n",
    "                als_score.append(ALScore[i])\n",
    "            score_mal.append(anime.loc[anime['anime_id'] == i]['Score'].values[0])\n",
    "            corr.append(0)\n",
    "            if df_genres.loc[int(i)].sum() != 0:\n",
    "                corr[-1] = (np.corrcoef(my_genres, df_genres.loc[int(i)])[0, 1])\n",
    "\n",
    "    df =  pd.DataFrame({'name': name, 'date': date, 'url': url, 'score mal': score_mal, 'correlation': corr})\n",
    "    df['rank'] = df['score mal'].rank() + df['correlation'].rank()\n",
    "    df = df.sort_values('rank', ascending=False)\n",
    "    if type(rec) == list:\n",
    "        df =  pd.DataFrame({'name': name, 'date': date, 'url': url, 'ALS score': als_score, 'score mal': score_mal, 'correlation': corr})\n",
    "        df['rank'] = df['score mal'].rank() + df['ALS score'].rank() + df['correlation'].rank()\n",
    "        df = df.sort_values('rank', ascending=False)\n",
    "    return df"
   ]
  },
  {
   "cell_type": "code",
   "execution_count": 20,
   "metadata": {},
   "outputs": [
    {
     "data": {
      "text/html": [
       "<div>\n",
       "<style scoped>\n",
       "    .dataframe tbody tr th:only-of-type {\n",
       "        vertical-align: middle;\n",
       "    }\n",
       "\n",
       "    .dataframe tbody tr th {\n",
       "        vertical-align: top;\n",
       "    }\n",
       "\n",
       "    .dataframe thead th {\n",
       "        text-align: right;\n",
       "    }\n",
       "</style>\n",
       "<table border=\"1\" class=\"dataframe\">\n",
       "  <thead>\n",
       "    <tr style=\"text-align: right;\">\n",
       "      <th></th>\n",
       "      <th>name</th>\n",
       "      <th>date</th>\n",
       "      <th>url</th>\n",
       "      <th>ALS score</th>\n",
       "      <th>score mal</th>\n",
       "      <th>correlation</th>\n",
       "      <th>rank</th>\n",
       "    </tr>\n",
       "  </thead>\n",
       "  <tbody>\n",
       "    <tr>\n",
       "      <th>10</th>\n",
       "      <td>Clannad</td>\n",
       "      <td>Oct 5, 2007 to Mar 28, 2008</td>\n",
       "      <td>https://myanimelist.net/anime/2167</td>\n",
       "      <td>1.021478</td>\n",
       "      <td>8.07</td>\n",
       "      <td>0.749164</td>\n",
       "      <td>677.5</td>\n",
       "    </tr>\n",
       "    <tr>\n",
       "      <th>17</th>\n",
       "      <td>Clannad: After Story</td>\n",
       "      <td>Oct 3, 2008 to Mar 27, 2009</td>\n",
       "      <td>https://myanimelist.net/anime/4181</td>\n",
       "      <td>0.966859</td>\n",
       "      <td>8.96</td>\n",
       "      <td>0.644048</td>\n",
       "      <td>670.0</td>\n",
       "    </tr>\n",
       "    <tr>\n",
       "      <th>14</th>\n",
       "      <td>Hidamari Sketch x ☆☆☆</td>\n",
       "      <td>Jan 8, 2010 to Mar 26, 2010</td>\n",
       "      <td>https://myanimelist.net/anime/7062</td>\n",
       "      <td>0.976978</td>\n",
       "      <td>7.93</td>\n",
       "      <td>0.765680</td>\n",
       "      <td>662.0</td>\n",
       "    </tr>\n",
       "    <tr>\n",
       "      <th>8</th>\n",
       "      <td>Hidamari Sketch x 365</td>\n",
       "      <td>Jul 4, 2008 to Sep 26, 2008</td>\n",
       "      <td>https://myanimelist.net/anime/3604</td>\n",
       "      <td>1.043252</td>\n",
       "      <td>7.84</td>\n",
       "      <td>0.765680</td>\n",
       "      <td>656.5</td>\n",
       "    </tr>\n",
       "    <tr>\n",
       "      <th>28</th>\n",
       "      <td>Hidamari Sketch x Honeycomb</td>\n",
       "      <td>Oct 5, 2012 to Dec 21, 2012</td>\n",
       "      <td>https://myanimelist.net/anime/11239</td>\n",
       "      <td>0.870091</td>\n",
       "      <td>7.94</td>\n",
       "      <td>0.765680</td>\n",
       "      <td>650.5</td>\n",
       "    </tr>\n",
       "    <tr>\n",
       "      <th>27</th>\n",
       "      <td>Mitsudomoe</td>\n",
       "      <td>Jul 3, 2010 to Sep 26, 2010</td>\n",
       "      <td>https://myanimelist.net/anime/7627</td>\n",
       "      <td>0.891680</td>\n",
       "      <td>7.59</td>\n",
       "      <td>0.855319</td>\n",
       "      <td>631.0</td>\n",
       "    </tr>\n",
       "    <tr>\n",
       "      <th>32</th>\n",
       "      <td>Working'!!</td>\n",
       "      <td>Oct 1, 2011 to Dec 24, 2011</td>\n",
       "      <td>https://myanimelist.net/anime/10521</td>\n",
       "      <td>0.855276</td>\n",
       "      <td>7.87</td>\n",
       "      <td>0.676729</td>\n",
       "      <td>622.0</td>\n",
       "    </tr>\n",
       "    <tr>\n",
       "      <th>13</th>\n",
       "      <td>Angel Beats!</td>\n",
       "      <td>Apr 3, 2010 to Jun 26, 2010</td>\n",
       "      <td>https://myanimelist.net/anime/6547</td>\n",
       "      <td>0.999978</td>\n",
       "      <td>8.15</td>\n",
       "      <td>0.576780</td>\n",
       "      <td>619.0</td>\n",
       "    </tr>\n",
       "    <tr>\n",
       "      <th>56</th>\n",
       "      <td>Mitsudomoe Zouryouchuu!</td>\n",
       "      <td>Jan 9, 2011 to Feb 27, 2011</td>\n",
       "      <td>https://myanimelist.net/anime/9510</td>\n",
       "      <td>0.770444</td>\n",
       "      <td>7.71</td>\n",
       "      <td>0.855319</td>\n",
       "      <td>612.0</td>\n",
       "    </tr>\n",
       "    <tr>\n",
       "      <th>16</th>\n",
       "      <td>Hello!! Kiniro Mosaic</td>\n",
       "      <td>Apr 6, 2015 to Jun 22, 2015</td>\n",
       "      <td>https://myanimelist.net/anime/23269</td>\n",
       "      <td>0.967087</td>\n",
       "      <td>7.53</td>\n",
       "      <td>0.765680</td>\n",
       "      <td>610.5</td>\n",
       "    </tr>\n",
       "  </tbody>\n",
       "</table>\n",
       "</div>"
      ],
      "text/plain": [
       "                           name                         date  \\\n",
       "10                      Clannad  Oct 5, 2007 to Mar 28, 2008   \n",
       "17         Clannad: After Story  Oct 3, 2008 to Mar 27, 2009   \n",
       "14        Hidamari Sketch x ☆☆☆  Jan 8, 2010 to Mar 26, 2010   \n",
       "8         Hidamari Sketch x 365  Jul 4, 2008 to Sep 26, 2008   \n",
       "28  Hidamari Sketch x Honeycomb  Oct 5, 2012 to Dec 21, 2012   \n",
       "27                   Mitsudomoe  Jul 3, 2010 to Sep 26, 2010   \n",
       "32                   Working'!!  Oct 1, 2011 to Dec 24, 2011   \n",
       "13                 Angel Beats!  Apr 3, 2010 to Jun 26, 2010   \n",
       "56      Mitsudomoe Zouryouchuu!  Jan 9, 2011 to Feb 27, 2011   \n",
       "16        Hello!! Kiniro Mosaic  Apr 6, 2015 to Jun 22, 2015   \n",
       "\n",
       "                                    url  ALS score score mal  correlation  \\\n",
       "10   https://myanimelist.net/anime/2167   1.021478      8.07     0.749164   \n",
       "17   https://myanimelist.net/anime/4181   0.966859      8.96     0.644048   \n",
       "14   https://myanimelist.net/anime/7062   0.976978      7.93     0.765680   \n",
       "8    https://myanimelist.net/anime/3604   1.043252      7.84     0.765680   \n",
       "28  https://myanimelist.net/anime/11239   0.870091      7.94     0.765680   \n",
       "27   https://myanimelist.net/anime/7627   0.891680      7.59     0.855319   \n",
       "32  https://myanimelist.net/anime/10521   0.855276      7.87     0.676729   \n",
       "13   https://myanimelist.net/anime/6547   0.999978      8.15     0.576780   \n",
       "56   https://myanimelist.net/anime/9510   0.770444      7.71     0.855319   \n",
       "16  https://myanimelist.net/anime/23269   0.967087      7.53     0.765680   \n",
       "\n",
       "     rank  \n",
       "10  677.5  \n",
       "17  670.0  \n",
       "14  662.0  \n",
       "8   656.5  \n",
       "28  650.5  \n",
       "27  631.0  \n",
       "32  622.0  \n",
       "13  619.0  \n",
       "56  612.0  \n",
       "16  610.5  "
      ]
     },
     "execution_count": 20,
     "metadata": {},
     "output_type": "execute_result"
    }
   ],
   "source": [
    "rec_final(anime_id).to_html('ALS recommendations.html', encoding='utf-8', index=False, render_links=True)\n",
    "rec_final(anime_id)[:10]"
   ]
  },
  {
   "cell_type": "code",
   "execution_count": 21,
   "metadata": {},
   "outputs": [],
   "source": [
    "rec_final(popularity_anime['anime_id'][:250]).to_html('popular anime from users dataset.html', encoding='utf-8', index=False, render_links=True)"
   ]
  },
  {
   "cell_type": "code",
   "execution_count": 22,
   "metadata": {},
   "outputs": [],
   "source": [
    "anime_ranked = anime[['anime_id', 'Score', 'Popularity']].copy()\n",
    "anime_ranked = anime_ranked.loc[~anime_ranked['Score'].isin(['Unknown'])]\n",
    "anime_ranked['rank'] = anime_ranked['Score'].rank() + anime_ranked['Popularity'].rank(ascending=False)\n",
    "rec_final(anime_ranked.sort_values('rank', ascending=False)['anime_id'][:250]).to_html('anime by score and popularity.html', encoding='utf-8', index=False, render_links=True)"
   ]
  },
  {
   "cell_type": "code",
   "execution_count": null,
   "metadata": {},
   "outputs": [],
   "source": []
  }
 ],
 "metadata": {
  "kernelspec": {
   "display_name": "Python 3 (ipykernel)",
   "language": "python",
   "name": "python3"
  },
  "language_info": {
   "codemirror_mode": {
    "name": "ipython",
    "version": 3
   },
   "file_extension": ".py",
   "mimetype": "text/x-python",
   "name": "python",
   "nbconvert_exporter": "python",
   "pygments_lexer": "ipython3",
   "version": "3.11.4"
  }
 },
 "nbformat": 4,
 "nbformat_minor": 4
}
